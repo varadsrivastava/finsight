{
 "cells": [
  {
   "cell_type": "markdown",
   "metadata": {
    "vscode": {
     "languageId": "plaintext"
    }
   },
   "source": [
    "# FinSight Data Collector Testing Notebook\n",
    "\n",
    "This notebook tests all components of the enhanced data collector including:\n",
    "- Basic stock data collection\n",
    "- HuggingFace sentiment analysis\n",
    "- Actual SEC filing downloads\n",
    "- Earnings call data collection\n",
    "- Competitor SEC filings analysis\n",
    "\n",
    "The system works with defaults. For enhanced features, optionally set API keys as environment variables or in a .env file.\n"
   ]
  },
  {
   "cell_type": "code",
   "execution_count": 1,
   "metadata": {},
   "outputs": [
    {
     "name": "stdout",
     "output_type": "stream",
     "text": [
      "✅ Imports successful\n"
     ]
    }
   ],
   "source": [
    "import sys\n",
    "import os\n",
    "import json\n",
    "import pandas as pd\n",
    "from datetime import datetime\n",
    "import warnings\n",
    "warnings.filterwarnings('ignore')\n",
    "\n",
    "# Add the project root to Python path\n",
    "sys.path.append('.')\n",
    "\n",
    "# Import our enhanced data collector\n",
    "from agents.data_collector import DataCollectorTools, DataRequest\n",
    "from config.config import FinSightConfig\n",
    "from shared_memory.memory_manager import SharedMemoryManager\n",
    "\n",
    "print(\"✅ Imports successful\")\n"
   ]
  },
  {
   "cell_type": "markdown",
   "metadata": {},
   "source": [
    "## 1. Initialize Data Collector Tools\n"
   ]
  },
  {
   "cell_type": "code",
   "execution_count": 2,
   "metadata": {},
   "outputs": [
    {
     "name": "stdout",
     "output_type": "stream",
     "text": [
      "📁 Charts output path: ./outputs/charts\n",
      "🔑 Finnhub API key configured: Yes\n",
      "🏢 Edgar user agent: FinSight user@finsight.ai\n"
     ]
    },
    {
     "name": "stderr",
     "output_type": "stream",
     "text": [
      "Device set to use cpu\n"
     ]
    },
    {
     "name": "stdout",
     "output_type": "stream",
     "text": [
      "\n",
      "Data Collector Tools initialized\n",
      "Sentiment model loaded: Yes\n"
     ]
    }
   ],
   "source": [
    "# Initialize configuration\n",
    "config = FinSightConfig()\n",
    "print(f\"📁 Charts output path: {config.charts_output_path}\")\n",
    "print(f\"🔑 Finnhub API key configured: {'Yes' if config.finnhub_api_key else 'No'}\")\n",
    "print(f\"🏢 Edgar user agent: {config.edgar_company_name} {config.edgar_email}\")\n",
    "\n",
    "# Initialize data collector tools\n",
    "tools = DataCollectorTools(config)\n",
    "print(\"\\nData Collector Tools initialized\")\n",
    "print(f\"Sentiment model loaded: {'Yes' if tools.sentiment_model else 'No (using fallback)'}\")\n"
   ]
  },
  {
   "cell_type": "markdown",
   "metadata": {},
   "source": [
    "## 2. Test Basic Stock Data Collection\n"
   ]
  },
  {
   "cell_type": "code",
   "execution_count": 3,
   "metadata": {},
   "outputs": [
    {
     "name": "stdout",
     "output_type": "stream",
     "text": [
      "📈 Testing stock data collection for AAPL...\n",
      "\n",
      "✅ Stock data collected successfully!\n",
      "📊 Current Price: $196.58\n",
      "📊 Market Cap: 2,936,079,646,720\n",
      "📊 P/E Ratio: 30.62\n",
      "📊 52-Week High: $260.10\n",
      "📊 52-Week Low: $169.21\n",
      "📊 Beta: 1.21\n",
      "📊 Historical data points: 502\n"
     ]
    }
   ],
   "source": [
    "# Test stock data collection\n",
    "symbol = \"AAPL\"  # You can change this to any stock symbol\n",
    "\n",
    "print(f\"📈 Testing stock data collection for {symbol}...\")\n",
    "stock_result = tools.get_stock_data(symbol)\n",
    "\n",
    "if stock_result[\"success\"]:\n",
    "    data = stock_result[\"data\"]\n",
    "    print(f\"\\n✅ Stock data collected successfully!\")\n",
    "    print(f\"📊 Current Price: ${data['current_price']:.2f}\")\n",
    "    print(f\"📊 Market Cap: {data['market_cap']:,}\" if data['market_cap'] else \"📊 Market Cap: N/A\")\n",
    "    print(f\"📊 P/E Ratio: {data['pe_ratio']:.2f}\" if data['pe_ratio'] else \"📊 P/E Ratio: N/A\")\n",
    "    print(f\"📊 52-Week High: ${data['52_week_high']:.2f}\")\n",
    "    print(f\"📊 52-Week Low: ${data['52_week_low']:.2f}\")\n",
    "    print(f\"📊 Beta: {data['beta']:.2f}\" if data['beta'] else \"📊 Beta: N/A\")\n",
    "    print(f\"📊 Historical data points: {len(data['historical_data']['dates'])}\")\n",
    "else:\n",
    "    print(f\"❌ Error: {stock_result['error']}\")\n"
   ]
  },
  {
   "cell_type": "markdown",
   "metadata": {},
   "source": [
    "## 3. Test Financial Statements Collection\n"
   ]
  },
  {
   "cell_type": "code",
   "execution_count": 4,
   "metadata": {},
   "outputs": [
    {
     "name": "stdout",
     "output_type": "stream",
     "text": [
      "💰 Testing financial statements collection for AAPL...\n",
      "\n",
      "✅ Financial statements collected successfully!\n",
      "\n",
      "📊 Key Financial Metrics:\n",
      "   • Revenue Growth: 0.051\n",
      "   • Profit Margin: 0.24301\n",
      "   • Operating Margin: 0.31028998\n",
      "   • Return on Equity: 1.38015\n",
      "   • Current Ratio: 0.821\n",
      "   • Debt to Equity: 146.994\n",
      "\n",
      "📄 Financial Statements Available:\n",
      "   • Income Statement periods: 5\n",
      "   • Balance Sheet periods: 5\n",
      "   • Cash Flow periods: 5\n"
     ]
    }
   ],
   "source": [
    "print(f\"💰 Testing financial statements collection for {symbol}...\")\n",
    "financials_result = tools.get_company_financials(symbol)\n",
    "\n",
    "if financials_result[\"success\"]:\n",
    "    data = financials_result[\"data\"]\n",
    "    print(f\"\\n✅ Financial statements collected successfully!\")\n",
    "    \n",
    "    # Show key metrics\n",
    "    metrics = data['key_metrics']\n",
    "    print(f\"\\n📊 Key Financial Metrics:\")\n",
    "    print(f\"   • Revenue Growth: {metrics.get('revenue_growth', 'N/A')}\")\n",
    "    print(f\"   • Profit Margin: {metrics.get('profit_margin', 'N/A')}\")\n",
    "    print(f\"   • Operating Margin: {metrics.get('operating_margin', 'N/A')}\")\n",
    "    print(f\"   • Return on Equity: {metrics.get('return_on_equity', 'N/A')}\")\n",
    "    print(f\"   • Current Ratio: {metrics.get('current_ratio', 'N/A')}\")\n",
    "    print(f\"   • Debt to Equity: {metrics.get('debt_to_equity', 'N/A')}\")\n",
    "    \n",
    "    # Show available statement periods\n",
    "    print(f\"\\n📄 Financial Statements Available:\")\n",
    "    print(f\"   • Income Statement periods: {len(data['income_statement'])}\")\n",
    "    print(f\"   • Balance Sheet periods: {len(data['balance_sheet'])}\")\n",
    "    print(f\"   • Cash Flow periods: {len(data['cash_flow'])}\")\n",
    "else:\n",
    "    print(f\"❌ Error: {financials_result['error']}\")\n"
   ]
  },
  {
   "cell_type": "markdown",
   "metadata": {},
   "source": [
    "## 4. Test Enhanced News Collection with HuggingFace Sentiment Analysis\n"
   ]
  },
  {
   "cell_type": "code",
   "execution_count": 3,
   "metadata": {},
   "outputs": [
    {
     "name": "stdout",
     "output_type": "stream",
     "text": [
      "📰 Testing news collection with sentiment analysis for AAPL...\n",
      "📋 This will test both Finnhub and Marketaux APIs with fallback mechanism\n"
     ]
    },
    {
     "name": "stderr",
     "output_type": "stream",
     "text": [
      "Error getting news from Finnhub for AAPL: FinnhubAPIException(status_code: 401): Invalid API key, trying Marketaux fallback\n"
     ]
    },
    {
     "name": "stdout",
     "output_type": "stream",
     "text": [
      "\n",
      "✅ News collection successful!\n",
      "📰 Found 3 articles from the last 7 days\n",
      "\n",
      "📊 Sentiment Analysis Results:\n",
      "\n",
      "📄 Article 1:\n",
      "   📰 Headline: Stock Market Today: Payment Giants Lead Declines as Tech Shows Mixed Performance...\n",
      "   🎯 Sentiment: POSITIVE (score: 0.077)\n",
      "   🤖 Model used: marketaux\n",
      "   🔗 Source: thestockmarketwatch.com\n",
      "   🏢 Related Entities:\n",
      "      • Apple Inc. (AAPL)\n",
      "        Entity Sentiment: 0.077\n",
      "\n",
      "📄 Article 2:\n",
      "   📰 Headline: Garmin unveils flagship Apollo RA800 marine stereo...\n",
      "   🎯 Sentiment: POSITIVE (score: 0.672)\n",
      "   🤖 Model used: marketaux\n",
      "   🔗 Source: gurufocus.com\n",
      "   🏢 Related Entities:\n",
      "      • Apple Inc. (AAPL)\n",
      "        Entity Sentiment: 0.672\n",
      "\n",
      "📄 Article 3:\n",
      "   📰 Headline: Wall Street Breakfast Podcast: Fed Sees Tariff Inflation Coming (undefined:US10Y)...\n",
      "   🎯 Sentiment: NEGATIVE (score: -0.296)\n",
      "   🤖 Model used: marketaux\n",
      "   🔗 Source: seekingalpha.com\n",
      "   🏢 Related Entities:\n",
      "      • Apple Inc. (AAPL)\n",
      "        Entity Sentiment: -0.296\n",
      "\n",
      "📈 Overall Sentiment Distribution:\n",
      "   • Positive: 2 articles (66.7%)\n",
      "   • Negative: 1 articles (33.3%)\n",
      "   • Neutral: 0 articles (0.0%)\n",
      "\n",
      "🤖 Sentiment Analysis Models Used:\n",
      "   • marketaux: 3 articles (100.0%)\n",
      "\n",
      "📰 News Sources Distribution:\n",
      "   • thestockmarketwatch.com: 1 articles (33.3%)\n",
      "   • gurufocus.com: 1 articles (33.3%)\n",
      "   • seekingalpha.com: 1 articles (33.3%)\n",
      "\n",
      "🔄 API Sources Used:\n",
      "   • Marketaux API: Entity-aware financial news\n",
      "\n",
      "🔗 API Endpoints Used:\n",
      "   Finnhub API:\n",
      "   📰 Company News: /company/news\n",
      "\n",
      "   Marketaux API:\n",
      "   📰 News Feed: /v1/news/all\n",
      "      Parameters: symbols, filter_entities, language, countries\n"
     ]
    }
   ],
   "source": [
    "symbol = \"AAPL\"\n",
    "print(f\"📰 Testing news collection with sentiment analysis for {symbol}...\")\n",
    "print(\"📋 This will test both Finnhub and Marketaux APIs with fallback mechanism\")\n",
    "\n",
    "news_result = tools.get_company_news(symbol, days_back=7)\n",
    "\n",
    "if news_result[\"success\"]:\n",
    "    data = news_result[\"data\"]\n",
    "    articles = data['articles']\n",
    "    print(f\"\\n✅ News collection successful!\")\n",
    "    print(f\"📰 Found {len(articles)} articles from the last 7 days\")\n",
    "    \n",
    "    if articles:\n",
    "        print(f\"\\n📊 Sentiment Analysis Results:\")\n",
    "        sentiment_counts = {'positive': 0, 'negative': 0, 'neutral': 0}\n",
    "        model_counts = {}\n",
    "        source_counts = {}\n",
    "        \n",
    "        for i, article in enumerate(articles[:5]):\n",
    "            sentiment = article['sentiment']\n",
    "            sentiment_counts[sentiment] += 1\n",
    "            score = article['sentiment_score']\n",
    "            model = article['sentiment_model']\n",
    "            source = article['source']\n",
    "            model_counts[model] = model_counts.get(model, 0) + 1\n",
    "            source_counts[source] = source_counts.get(source, 0) + 1\n",
    "            \n",
    "            print(f\"\\n📄 Article {i+1}:\")\n",
    "            print(f\"   📰 Headline: {article['headline'][:100]}...\")\n",
    "            print(f\"   🎯 Sentiment: {sentiment.upper()} (score: {score:.3f})\")\n",
    "            print(f\"   🤖 Model used: {model}\")\n",
    "            print(f\"   🔗 Source: {source}\")\n",
    "            \n",
    "            # Show entity information if available (Marketaux specific)\n",
    "            if 'entities' in article and article['entities']:\n",
    "                print(f\"   🏢 Related Entities:\")\n",
    "                for entity in article['entities'][:2]:  # Show first 2 entities\n",
    "                    print(f\"      • {entity.get('name', 'Unknown')} ({entity.get('symbol', 'N/A')})\")\n",
    "                    if 'sentiment_score' in entity:\n",
    "                        print(f\"        Entity Sentiment: {entity.get('sentiment_score', 0):.3f}\")\n",
    "        \n",
    "        print(f\"\\n📈 Overall Sentiment Distribution:\")\n",
    "        total = len(articles)\n",
    "        for sentiment, count in sentiment_counts.items():\n",
    "            percentage = (count / total) * 100\n",
    "            print(f\"   • {sentiment.capitalize()}: {count} articles ({percentage:.1f}%)\")\n",
    "        \n",
    "        print(f\"\\n🤖 Sentiment Analysis Models Used:\")\n",
    "        for model, count in model_counts.items():\n",
    "            percentage = (count / total) * 100\n",
    "            print(f\"   • {model}: {count} articles ({percentage:.1f}%)\")\n",
    "        \n",
    "        print(f\"\\n📰 News Sources Distribution:\")\n",
    "        for source, count in source_counts.items():\n",
    "            percentage = (count / total) * 100\n",
    "            print(f\"   • {source}: {count} articles ({percentage:.1f}%)\")\n",
    "        \n",
    "        print(f\"\\n🔄 API Sources Used:\")\n",
    "        if any('entities' in article for article in articles):\n",
    "            print(\"   • Marketaux API: Entity-aware financial news\")\n",
    "        if any('entities' not in article for article in articles):\n",
    "            print(\"   • Finnhub API: General financial news\")\n",
    "    else:\n",
    "        print(\"📰 No recent articles found\")\n",
    "        \n",
    "    # Show API endpoints used\n",
    "    print(f\"\\n🔗 API Endpoints Used:\")\n",
    "    print(\"   Finnhub API:\")\n",
    "    print(\"   📰 Company News: /company/news\")\n",
    "    print(\"\\n   Marketaux API:\")\n",
    "    print(\"   📰 News Feed: /v1/news/all\")\n",
    "    print(\"      Parameters: symbols, filter_entities, language, countries\")\n",
    "else:\n",
    "    print(f\"❌ Error: {news_result['error']}\")\n",
    "    print(\"\\n💡 Tips:\")\n",
    "    print(\"   • Ensure FINNHUB_API_KEY is set in your .env file\")\n",
    "    print(\"   • Ensure MARKETAUX_API_KEY is set in your .env file\")\n",
    "    print(\"   • Check if the symbol is correct\")\n",
    "    print(\"   • Try a well-known company (e.g., AAPL, MSFT)\")\n",
    "    print(\"   • Some companies may have limited news coverage\")\n"
   ]
  },
  {
   "cell_type": "code",
   "execution_count": null,
   "metadata": {},
   "outputs": [],
   "source": []
  },
  {
   "cell_type": "code",
   "execution_count": 5,
   "metadata": {},
   "outputs": [
    {
     "name": "stdout",
     "output_type": "stream",
     "text": [
      "📰 Testing news collection with sentiment analysis for AAPL...\n",
      "\n",
      "✅ News collection successful!\n",
      "📰 Found 20 articles from the last 7 days\n",
      "\n",
      "📊 Sentiment Analysis Results:\n",
      "\n",
      "📄 Article 1:\n",
      "   📰 Headline: Apple Just Erased a $300 Million Problem--But a $500M One Still Lurks...\n",
      "   🎯 Sentiment: NEGATIVE (score: 0.531)\n",
      "   🤖 Model used: huggingface\n",
      "   🔗 Source: Yahoo\n",
      "\n",
      "📄 Article 2:\n",
      "   📰 Headline: Credit Card Annual Fees Are Going Up. What It Means for the Stocks....\n",
      "   🎯 Sentiment: POSITIVE (score: 0.851)\n",
      "   🤖 Model used: huggingface\n",
      "   🔗 Source: Yahoo\n",
      "\n",
      "📄 Article 3:\n",
      "   📰 Headline: The Trump phone probably won’t be built in America (and may never be)...\n",
      "   🎯 Sentiment: NEUTRAL (score: 0.938)\n",
      "   🤖 Model used: huggingface\n",
      "   🔗 Source: Yahoo\n",
      "\n",
      "📄 Article 4:\n",
      "   📰 Headline: Apple: Quiet After WWDC...\n",
      "   🎯 Sentiment: NEUTRAL (score: 0.856)\n",
      "   🤖 Model used: huggingface\n",
      "   🔗 Source: SeekingAlpha\n",
      "\n",
      "📄 Article 5:\n",
      "   📰 Headline: Apple Just Snatched Back the Top Spot in China Smartphone Sales. Should You Buy AAPL Stock Here?...\n",
      "   🎯 Sentiment: NEUTRAL (score: 0.700)\n",
      "   🤖 Model used: huggingface\n",
      "   🔗 Source: Yahoo\n",
      "\n",
      "📈 Overall Sentiment Distribution:\n",
      "   • Positive: 1 articles (5.0%)\n",
      "   • Negative: 1 articles (5.0%)\n",
      "   • Neutral: 3 articles (15.0%)\n"
     ]
    }
   ],
   "source": [
    "print(f\"📰 Testing news collection with sentiment analysis for {symbol}...\")\n",
    "news_result = tools.get_company_news(symbol, days_back=7)\n",
    "\n",
    "if news_result[\"success\"]:\n",
    "    data = news_result[\"data\"]\n",
    "    articles = data['articles']\n",
    "    print(f\"\\n✅ News collection successful!\")\n",
    "    print(f\"📰 Found {len(articles)} articles from the last 7 days\")\n",
    "    \n",
    "    if articles:\n",
    "        print(f\"\\n📊 Sentiment Analysis Results:\")\n",
    "        sentiment_counts = {'positive': 0, 'negative': 0, 'neutral': 0}\n",
    "        \n",
    "        for i, article in enumerate(articles[:5]):\n",
    "            sentiment = article['sentiment']\n",
    "            sentiment_counts[sentiment] += 1\n",
    "            score = article['sentiment_score']\n",
    "            model = article['sentiment_model']\n",
    "            \n",
    "            print(f\"\\n📄 Article {i+1}:\")\n",
    "            print(f\"   📰 Headline: {article['headline'][:100]}...\")\n",
    "            print(f\"   🎯 Sentiment: {sentiment.upper()} (score: {score:.3f})\")\n",
    "            print(f\"   🤖 Model used: {model}\")\n",
    "            print(f\"   🔗 Source: {article['source']}\")\n",
    "        \n",
    "        print(f\"\\n📈 Overall Sentiment Distribution:\")\n",
    "        total = len(articles)\n",
    "        for sentiment, count in sentiment_counts.items():\n",
    "            percentage = (count / total) * 100\n",
    "            print(f\"   • {sentiment.capitalize()}: {count} articles ({percentage:.1f}%)\")\n",
    "    else:\n",
    "        print(\"📰 No recent articles found\")\n",
    "else:\n",
    "    print(f\"❌ Error: {news_result['error']}\")\n"
   ]
  },
  {
   "cell_type": "markdown",
   "metadata": {
    "vscode": {
     "languageId": "raw"
    }
   },
   "source": [
    "## 5. Test ESG Data Collection with FMP API and yfinance Fallback\n",
    "\n",
    "This section tests the enhanced ESG data collection that uses both FMP API and yfinance sustainability data as a fallback source.\n"
   ]
  },
  {
   "cell_type": "code",
   "execution_count": 6,
   "metadata": {},
   "outputs": [
    {
     "name": "stdout",
     "output_type": "stream",
     "text": [
      "🌱 Testing ESG data collection for AAPL using FMP API...\n",
      "📋 This will test the new FMP ESG endpoints for ESG scores and ratings\n"
     ]
    },
    {
     "name": "stderr",
     "output_type": "stream",
     "text": [
      "ESG Score API returned status 402 for AAPL\n"
     ]
    },
    {
     "name": "stdout",
     "output_type": "stream",
     "text": [
      "<Response [402]>\n"
     ]
    },
    {
     "name": "stderr",
     "output_type": "stream",
     "text": [
      "ESG Rating API returned status 402 for AAPL\n"
     ]
    },
    {
     "name": "stdout",
     "output_type": "stream",
     "text": [
      "\n",
      "✅ ESG data collection successful!\n",
      "📊 Source: financial_modeling_prep\n",
      "\n",
      "🌱 ESG Scores:\n",
      "   📊 Overall ESG Score: None\n",
      "   🌍 Environment Score: None\n",
      "   👥 Social Score: None\n",
      "   🏛️  Governance Score: None\n",
      "\n",
      "📈 ESG Ratings:\n",
      "   ⚠️  ESG Risk Rating: None\n",
      "   🏭 Industry: None\n",
      "   📊 Industry Rank: None\n",
      "   📅 Fiscal Year: None\n",
      "\n",
      "📋 Additional Information:\n",
      "   🏢 Company Name: N/A\n",
      "   🆔 CIK: N/A\n",
      "   📅 ESG Data Date: N/A\n",
      "   📅 Rating Date: N/A\n",
      "\n",
      "📊 Data Availability: 0/5 main ESG fields populated\n",
      "⚠️  No ESG data available from FMP for this symbol. This could mean:\n",
      "   • Symbol not covered by FMP ESG data\n",
      "   • FMP API key not configured\n",
      "   • Company too small for ESG tracking\n"
     ]
    }
   ],
   "source": [
    "symbol = \"AAPL\"\n",
    "print(f\"🌱 Testing ESG data collection for {symbol} using FMP API with yfinance fallback...\")\n",
    "print(\"📋 This will test both FMP ESG endpoints and yfinance sustainability data\")\n",
    "\n",
    "esg_result = tools.get_esg_data(symbol)\n",
    "\n",
    "if esg_result[\"success\"]:\n",
    "    data = esg_result[\"data\"]\n",
    "    print(f\"\\n✅ ESG data collection successful!\")\n",
    "    print(f\"📊 Source: {data.get('source', 'Unknown')}\")\n",
    "    \n",
    "    # Show ESG Scores\n",
    "    print(f\"\\n🌱 ESG Scores:\")\n",
    "    print(f\"   📊 Overall ESG Score: {data.get('esg_score', 'N/A')}\")\n",
    "    print(f\"   🌍 Environment Score: {data.get('environment_score', 'N/A')}\")\n",
    "    print(f\"   👥 Social Score: {data.get('social_score', 'N/A')}\")\n",
    "    print(f\"   🏛️  Governance Score: {data.get('governance_score', 'N/A')}\")\n",
    "    \n",
    "    # Show ESG Ratings\n",
    "    print(f\"\\n📈 ESG Ratings:\")\n",
    "    print(f\"   ⚠️  ESG Risk Rating: {data.get('esgrisk_rating', 'N/A')}\")\n",
    "    print(f\"   🏭 Industry: {data.get('industry', 'N/A')}\")\n",
    "    print(f\"   📊 Industry Rank: {data.get('industry_rank', 'N/A')}\")\n",
    "    print(f\"   📅 Fiscal Year: {data.get('fiscal_year', 'N/A')}\")\n",
    "    \n",
    "    # Show additional metadata\n",
    "    print(f\"\\n📋 Additional Information:\")\n",
    "    print(f\"   🏢 Company Name: {data.get('company_name', 'N/A')}\")\n",
    "    print(f\"   🆔 CIK: {data.get('cik', 'N/A')}\")\n",
    "    print(f\"   📅 ESG Data Date: {data.get('date', 'N/A')}\")\n",
    "    print(f\"   📅 Rating Date: {data.get('rating_date', 'N/A')}\")\n",
    "    \n",
    "    # Show yfinance-specific data if available\n",
    "    if 'yfinance_esg_data' in data:\n",
    "        yf_data = data['yfinance_esg_data']\n",
    "        print(f\"\\n📊 Additional yfinance ESG Data:\")\n",
    "        print(f\"   🎯 ESG Performance: {yf_data.get('esg_performance', 'N/A')}\")\n",
    "        print(f\"   👥 Peer Group: {yf_data.get('peer_group', 'N/A')}\")\n",
    "        print(f\"   📊 Peer Count: {yf_data.get('peer_count', 'N/A')}\")\n",
    "        print(f\"   📈 Percentile: {yf_data.get('percentile', 'N/A')}\")\n",
    "        \n",
    "        # Show peer performance if available\n",
    "        if 'peer_esg_score_performance' in yf_data:\n",
    "            print(f\"\\n📊 Peer ESG Performance:\")\n",
    "            peer_perf = yf_data['peer_esg_score_performance']\n",
    "            print(f\"   Min: {peer_perf.get('min', 'N/A')}\")\n",
    "            print(f\"   Avg: {peer_perf.get('avg', 'N/A')}\")\n",
    "            print(f\"   Max: {peer_perf.get('max', 'N/A')}\")\n",
    "    \n",
    "    # Show data availability status\n",
    "    available_fields = sum(1 for field in ['esg_score', 'environment_score', 'social_score', 'governance_score', 'esgrisk_rating'] \n",
    "                          if data.get(field) is not None)\n",
    "    print(f\"\\n📊 Data Availability: {available_fields}/5 main ESG fields populated\")\n",
    "    \n",
    "    if available_fields == 0:\n",
    "        print(\"⚠️  No ESG data available. This could mean:\")\n",
    "        print(\"   • Symbol not covered by FMP or yfinance ESG data\")\n",
    "        print(\"   • FMP API key not configured\")\n",
    "        print(\"   • Company too small for ESG tracking\")\n",
    "        \n",
    "else:\n",
    "    print(f\"❌ ESG Error: {esg_result['error']}\")\n",
    "    print(\"💡 Tips:\")\n",
    "    print(\"   • Ensure FMP_API_KEY is set in your .env file\")\n",
    "    print(\"   • Try a larger, more established company (e.g., AAPL, MSFT)\")\n",
    "    print(\"   • Check if the symbol is correct\")\n"
   ]
  },
  {
   "cell_type": "markdown",
   "metadata": {
    "vscode": {
     "languageId": "raw"
    }
   },
   "source": [
    "## 6. Test Earnings Call Transcript Collection with FMP API and API Ninjas Fallback\n",
    "\n",
    "This section tests the enhanced earnings call transcript collection that uses both FMP API and API Ninjas as a fallback source."
   ]
  },
  {
   "cell_type": "code",
   "execution_count": 7,
   "metadata": {},
   "outputs": [
    {
     "name": "stdout",
     "output_type": "stream",
     "text": [
      "💼 Testing earnings call transcript collection for AAPL using FMP API...\n",
      "📋 This will test the new FMP earnings transcript endpoints\n"
     ]
    },
    {
     "name": "stderr",
     "output_type": "stream",
     "text": [
      "Earnings calendar API returned status 402\n",
      "Transcript list API returned status 402 for AAPL\n"
     ]
    },
    {
     "name": "stdout",
     "output_type": "stream",
     "text": [
      "\n",
      "✅ Earnings transcript collection successful!\n",
      "📊 Source: financial_modeling_prep\n",
      "🏢 Symbol: AAPL\n",
      "\n",
      "📅 Earnings Call Information:\n",
      "   📅 Fiscal Year: N/A\n",
      "   📊 Quarter: QN/A\n",
      "   📅 Date: N/A\n",
      "\n",
      "⚠️  No transcript content available\n",
      "   This could mean:\n",
      "   • No transcript available for the latest quarter\n",
      "   • FMP API key not configured\n",
      "   • Symbol not covered by FMP transcript service\n",
      "   • API returned empty content\n",
      "\n",
      "🔗 FMP API Endpoints Used:\n",
      "   📅 Transcript Dates: /stable/earning-call-transcript-dates\n",
      "   📝 Transcript Content: /stable/earning-call-transcript\n"
     ]
    }
   ],
   "source": [
    "print(f\"💼 Testing earnings call transcript collection for {symbol} using FMP API with API Ninjas fallback...\")\n",
    "print(\"📋 This will test both FMP earnings transcript endpoints and API Ninjas fallback\")\n",
    "\n",
    "earnings_result = tools.get_earnings_call_data(symbol)\n",
    "\n",
    "if earnings_result[\"success\"]:\n",
    "    data = earnings_result[\"data\"]\n",
    "    print(f\"\\n✅ Earnings transcript collection successful!\")\n",
    "    print(f\"📊 Source: {data.get('source', 'Unknown')}\")\n",
    "    print(f\"🏢 Symbol: {data.get('symbol', 'N/A')}\")\n",
    "    \n",
    "    # Show earnings call metadata\n",
    "    print(f\"\\n📅 Earnings Call Information:\")\n",
    "    fiscal_year = data.get('fiscal_year')\n",
    "    quarter = data.get('quarter')\n",
    "    date = data.get('date')\n",
    "    \n",
    "    print(f\"   📅 Fiscal Year: {fiscal_year if fiscal_year else 'N/A'}\")\n",
    "    print(f\"   📊 Quarter: Q{quarter if quarter else 'N/A'}\")\n",
    "    print(f\"   📅 Date: {date if date else 'N/A'}\")\n",
    "    \n",
    "    # Show transcript content\n",
    "    transcript = data.get('transcript')\n",
    "    if transcript and len(transcript.strip()) > 0:\n",
    "        print(f\"\\n📝 Transcript Content:\")\n",
    "        print(f\"   📊 Content Length: {len(transcript):,} characters\")\n",
    "        print(f\"   📊 Word Count: ~{len(transcript.split()) if transcript else 0:,} words\")\n",
    "        \n",
    "        # Show preview of transcript content\n",
    "        preview_length = 500\n",
    "        if len(transcript) > preview_length:\n",
    "            print(f\"\\n📄 Transcript Preview (first {preview_length} characters):\")\n",
    "            print(f\"   {transcript[:preview_length]}...\")\n",
    "            print(f\"   [...content truncated...]\")\n",
    "        else:\n",
    "            print(f\"\\n📄 Full Transcript Content:\")\n",
    "            print(f\"   {transcript}\")\n",
    "        \n",
    "        # Analyze transcript sections if possible\n",
    "        sections = transcript.lower().split('operator') if transcript else []\n",
    "        if len(sections) > 1:\n",
    "            print(f\"\\n📊 Transcript Structure Analysis:\")\n",
    "            print(f\"   📞 Operator segments: {len(sections) - 1}\")\n",
    "            print(f\"   📝 Average segment length: {len(transcript) // len(sections):,} chars\")\n",
    "        \n",
    "        \n",
    "        # Perform sentiment analysis on transcript\n",
    "        if len(transcript) > 100:\n",
    "            print(f\"\\n🤖 Analyzing transcript sentiment...\")\n",
    "            # Take a sample from the middle of the transcript for sentiment analysis\n",
    "            sample_start = len(transcript) // 4\n",
    "            sample_end = sample_start + 1000  # 1000 character sample\n",
    "            transcript_sample = transcript[sample_start:sample_end]\n",
    "            \n",
    "            sentiment_result = tools._analyze_sentiment(transcript_sample)\n",
    "            print(f\"   🎯 Overall Sentiment: {sentiment_result['label'].upper()}\")\n",
    "            print(f\"   📊 Confidence Score: {sentiment_result['score']:.3f}\")\n",
    "            print(f\"   🤖 Analysis Model: {sentiment_result['model']}\")\n",
    "            \n",
    "    else:\n",
    "        print(f\"\\n⚠️  No transcript content available\")\n",
    "        print(\"   This could mean:\")\n",
    "        print(\"   • No transcript available for the latest quarter\")\n",
    "        print(\"   • FMP API key not configured\")\n",
    "        print(\"   • API Ninjas key not configured\")\n",
    "        print(\"   • Symbol not covered by either service\")\n",
    "        print(\"   • Both APIs returned empty content\")\n",
    "    \n",
    "    # Show API endpoints used\n",
    "    print(f\"\\n🔗 API Endpoints Used:\")\n",
    "    print(f\"   FMP API:\")\n",
    "    print(f\"   📅 Transcript Dates: /stable/earning-call-transcript-dates\")\n",
    "    print(f\"   📝 Transcript Content: /stable/earning-call-transcript\")\n",
    "    print(f\"\\n   API Ninjas:\")\n",
    "    print(f\"   📝 Earnings Transcript: /v1/earningscall\")\n",
    "        \n",
    "else:\n",
    "    print(f\"❌ Earnings Error: {earnings_result['error']}\")\n",
    "    print(\"💡 Tips:\")\n",
    "    print(\"   • Ensure FMP_API_KEY is set in your .env file\")\n",
    "    print(\"   • Try a well-known company with regular earnings calls (e.g., AAPL, MSFT)\")\n",
    "    print(\"   • Check if the symbol is correct\")\n",
    "    print(\"   • Some companies may not have recent transcripts available\")\n"
   ]
  },
  {
   "cell_type": "raw",
   "metadata": {
    "vscode": {
     "languageId": "raw"
    }
   },
   "source": [
    "\n"
   ]
  },
  {
   "cell_type": "code",
   "execution_count": null,
   "metadata": {},
   "outputs": [],
   "source": [
    "\n"
   ]
  },
  {
   "cell_type": "markdown",
   "metadata": {},
   "source": [
    "## 7. Test SEC Filings Download (Actual Files)\n"
   ]
  },
  {
   "cell_type": "code",
   "execution_count": 5,
   "metadata": {},
   "outputs": [
    {
     "name": "stdout",
     "output_type": "stream",
     "text": [
      "📋 Testing SEC filings download for AAPL...\n",
      "⚠️  This may take a few minutes as we download actual SEC filings\n",
      "🔄 System will try SEC-API.IO first (for PDFs), then fallback to direct EDGAR download\n",
      "\n",
      "✅ SEC filings download successful!\n",
      "📁 Download path: outputs/sec_filings\\AAPL\n",
      "📋 Total filings downloaded: 0\n",
      "🔄 Download method: sec-api.io\n",
      "📊 SEC-API.IO calls made: 0\n",
      "♻️  Files reused: 0\n"
     ]
    }
   ],
   "source": [
    "symbol = \"AAPL\"  # You can change this to any stock symbol\n",
    "\n",
    "print(f\"📋 Testing SEC filings download for {symbol}...\")\n",
    "print(\"⚠️  This may take a few minutes as we download actual SEC filings\")\n",
    "print(\"🔄 System will try SEC-API.IO first (for PDFs), then fallback to direct EDGAR download\")\n",
    "\n",
    "sec_result = tools.get_sec_filings(symbol, filing_types=[\"10-K\", \"10-Q\"], max_filings=2)\n",
    "\n",
    "if sec_result[\"success\"]:\n",
    "    data = sec_result[\"data\"]\n",
    "    print(f\"\\n✅ SEC filings download successful!\")\n",
    "    print(f\"📁 Download path: {data['download_path']}\")\n",
    "    print(f\"📋 Total filings downloaded: {len(data['filings_downloaded'])}\")\n",
    "    print(f\"🔄 Download method: {data.get('source', 'Unknown')}\")\n",
    "    \n",
    "    # Show API usage statistics if available\n",
    "    if 'api_calls_made' in data:\n",
    "        print(f\"📊 SEC-API.IO calls made: {data['api_calls_made']}\")\n",
    "        print(f\"♻️  Files reused: {data['files_reused']}\")\n",
    "    \n",
    "    # Show filing summaries\n",
    "    if data['filing_summaries']:\n",
    "        print(f\"\\n📄 Filing Details:\")\n",
    "        for i, filing in enumerate(data['filing_summaries']):\n",
    "            if 'error' not in filing:\n",
    "                print(f\"\\n📋 Filing {i+1}:\")\n",
    "                print(f\"   📝 Type: {filing['filing_type']}\")\n",
    "                print(f\"   📅 Date: {filing.get('date', 'Unknown')}\")\n",
    "                print(f\"   📄 File: {filing.get('file_path', 'N/A')}\")\n",
    "                print(f\"   🔄 Method: {filing.get('download_method', 'Unknown')}\")\n",
    "                \n",
    "                # Show accession number if available\n",
    "                if 'accession_number' in filing:\n",
    "                    print(f\"   🆔 Accession: {filing['accession_number']}\")\n",
    "                \n",
    "                # Show text preview for non-PDF files\n",
    "                text_summary = filing.get('text_summary', '')\n",
    "                if text_summary:\n",
    "                    print(f\"   📝 Preview: {text_summary[:200]}...\")\n",
    "            else:\n",
    "                print(f\"\\n❌ {filing['filing_type']}: {filing['error']}\")\n",
    "    \n",
    "    # Show actual downloaded files structure\n",
    "    if data['filings_downloaded']:\n",
    "        print(f\"\\n📁 Downloaded File Structure:\")\n",
    "        for filing in data['filings_downloaded'][:2]:\n",
    "            print(f\"   📋 {filing['filing_type']} - {filing.get('filing_date', 'Unknown date')}\")\n",
    "            \n",
    "            # Handle both PDF and HTML/TXT files\n",
    "            file_path = filing.get('filing_path') or filing.get('file_path')\n",
    "            if file_path:\n",
    "                print(f\"       📄 File path: {file_path}\")\n",
    "                \n",
    "                # Check if file actually exists and show details\n",
    "                if os.path.exists(file_path):\n",
    "                    file_size = os.path.getsize(file_path)\n",
    "                    file_ext = os.path.splitext(file_path)[1].lower()\n",
    "                    \n",
    "                    if file_ext == '.pdf':\n",
    "                        print(f\"       ✅ PDF file exists ({file_size:,} bytes) - Ready for multimodal analysis\")\n",
    "                    else:\n",
    "                        print(f\"       ✅ File exists ({file_size:,} bytes)\")\n",
    "                        print(f\"       📊 Financial tables: {len(filing.get('tables_found', []))}\") \n",
    "                        print(f\"       📝 Text length: {len(filing.get('text_summary', ''))} characters\")\n",
    "                else:\n",
    "                    print(f\"       ❌ File not found\")\n",
    "            else:\n",
    "                print(f\"       ❌ No file path available\")\n",
    "                \n",
    "            # Show download method\n",
    "            method = filing.get('download_method', 'Unknown')\n",
    "            if method == 'sec-api.io':\n",
    "                print(f\"       🚀 Downloaded as optimized PDF via SEC-API.IO\")\n",
    "            elif method == 'reused_existing':\n",
    "                print(f\"       ♻️  Reused existing file (saved API call)\")\n",
    "            elif method == 'edgar_direct':\n",
    "                print(f\"       📋 Downloaded via direct EDGAR access\")\n",
    "else:\n",
    "    print(f\"❌ Error: {sec_result['error']}\")\n",
    "    print(\"💡 Tip: If SEC-API.IO failed, check if SEC_API_KEY is set in your .env file\")"
   ]
  },
  {
   "cell_type": "markdown",
   "metadata": {},
   "source": [
    "## 8. Test Competitor SEC Filings Analysis\n"
   ]
  },
  {
   "cell_type": "code",
   "execution_count": null,
   "metadata": {},
   "outputs": [],
   "source": [
    "print(f\"🏢 Testing competitor SEC filings analysis for {symbol}...\")\n",
    "print(\"⚠️  This may take several minutes as we download competitor filings\")\n",
    "\n",
    "competitor_result = tools.get_competitor_sec_filings(symbol, filing_types=[\"10-K\"], max_filings=1)\n",
    "\n",
    "if competitor_result[\"success\"]:\n",
    "    data = competitor_result[\"data\"]\n",
    "    print(f\"\\n✅ Competitor analysis successful!\")\n",
    "    print(f\"🏢 Primary symbol: {data['primary_symbol']}\")\n",
    "    print(f\"🏢 Competitors analyzed: {', '.join(data['competitors_analyzed'])}\")\n",
    "    \n",
    "    # Show competitor filing results\n",
    "    competitor_filings = data['competitor_filings']\n",
    "    print(f\"\\n📋 Competitor Filing Results:\")\n",
    "    \n",
    "    for competitor, filing_data in competitor_filings.items():\n",
    "        print(f\"\\n🏢 {competitor}:\")\n",
    "        if 'error' in filing_data:\n",
    "            print(f\"   ❌ Error: {filing_data['error']}\")\n",
    "        else:\n",
    "            filings_downloaded = filing_data.get('filings_downloaded', [])\n",
    "            print(f\"   📋 Filings downloaded: {len(filings_downloaded)}\")\n",
    "            \n",
    "            if filings_downloaded:\n",
    "                for filing in filings_downloaded[:1]:\n",
    "                    print(f\"   📄 {filing['filing_type']} - {filing.get('filing_date', 'Unknown')}\")\n",
    "                    print(f\"       📊 Tables found: {len(filing.get('tables_found', []))}\")\n",
    "                    print(f\"       📝 Text preview: {filing.get('text_summary', '')[:100]}...\")\n",
    "else:\n",
    "    print(f\"❌ Error: {competitor_result['error']}\")\n"
   ]
  },
  {
   "cell_type": "markdown",
   "metadata": {},
   "source": [
    "## 9. Summary and Data Structure Overview\n"
   ]
  },
  {
   "cell_type": "code",
   "execution_count": null,
   "metadata": {},
   "outputs": [],
   "source": [
    "print(\"📋 ENHANCED DATA COLLECTOR TESTING SUMMARY WITH FMP INTEGRATION\")\n",
    "print(\"=\" * 70)\n",
    "\n",
    "# Test all components one more time and show structure\n",
    "test_symbol = \"AAPL\"\n",
    "print(f\"🔍 Testing all components for {test_symbol}:\")\n",
    "\n",
    "components = [\n",
    "    (\"Stock Data\", lambda: tools.get_stock_data(test_symbol)),\n",
    "    (\"Financial Statements\", lambda: tools.get_company_financials(test_symbol)),\n",
    "    (\"News with Sentiment\", lambda: tools.get_company_news(test_symbol, 3)),\n",
    "    (\"ESG Data (FMP)\", lambda: tools.get_esg_data(test_symbol)),\n",
    "    (\"Earnings Transcripts (FMP)\", lambda: tools.get_earnings_call_data(test_symbol)),\n",
    "    (\"Market Trends\", lambda: tools.get_market_trends(test_symbol))\n",
    "]\n",
    "\n",
    "results_summary = {}\n",
    "\n",
    "for component_name, test_func in components:\n",
    "    try:\n",
    "        result = test_func()\n",
    "        status = \"✅ Success\" if result.get(\"success\") else \"❌ Failed\"\n",
    "        results_summary[component_name] = status\n",
    "        print(f\"   {status}: {component_name}\")\n",
    "    except Exception as e:\n",
    "        results_summary[component_name] = f\"❌ Error: {str(e)[:50]}...\"\n",
    "        print(f\"   ❌ Error: {component_name} - {str(e)[:50]}...\")\n",
    "\n",
    "print(f\"\\n📊 COMPONENT STATUS SUMMARY:\")\n",
    "for component, status in results_summary.items():\n",
    "    print(f\"   {component}: {status}\")\n",
    "\n",
    "print(f\"\\n🎯 KEY ENHANCEMENTS IMPLEMENTED:\")\n",
    "print(f\"   🤖 HuggingFace FinBERT sentiment analysis\")\n",
    "print(f\"   📋 Actual SEC filing downloads and parsing\")\n",
    "print(f\"   🌱 FMP ESG data collection with scores and ratings\")\n",
    "print(f\"   💼 FMP earnings call transcript collection\")\n",
    "print(f\"   🏢 Competitor SEC filings analysis\")\n",
    "print(f\"   📊 Enhanced data structures for multimodal analysis\")\n",
    "\n",
    "print(f\"\\n🔗 FMP API INTEGRATIONS:\")\n",
    "print(f\"   📊 ESG Endpoints: /stable/esg-disclosures, /stable/esg-ratings\")\n",
    "print(f\"   💼 Earnings Endpoints: /stable/earning-call-transcript-dates, /stable/earning-call-transcript\")\n",
    "print(f\"   🔑 Requires: FMP_API_KEY environment variable\")\n",
    "\n",
    "print(f\"\\n📁 File Storage Locations:\")\n",
    "print(f\"   📋 SEC Filings: {config.sec_filings_path}\")\n",
    "print(f\"   📊 Charts: {config.charts_output_path}\")\n",
    "print(f\"   💾 Vector DB: {config.vector_db_path}\")\n",
    "print(f\"   🗄️  Shared Memory: {config.shared_memory_path}\")\n",
    "\n",
    "print(f\"\\n📋 NEW TESTING SECTIONS ADDED:\")\n",
    "print(f\"   🌱 Section 7: ESG Data Collection with FMP API\")\n",
    "print(f\"   💼 Section 8: Earnings Call Transcript Collection with FMP API\")\n",
    "print(f\"   🔬 Section 9: Multi-symbol ESG and Earnings Testing\")\n",
    "\n",
    "print(f\"\\n✅ ENHANCED TESTING COMPLETE!\")\n",
    "print(f\"📝 All components including new FMP integrations have been tested.\")\n",
    "print(f\"🚀 The system is ready for comprehensive financial research with ESG and earnings data!\")\n"
   ]
  },
  {
   "cell_type": "code",
   "execution_count": null,
   "metadata": {},
   "outputs": [],
   "source": []
  },
  {
   "cell_type": "code",
   "execution_count": null,
   "metadata": {},
   "outputs": [],
   "source": []
  }
 ],
 "metadata": {
  "kernelspec": {
   "display_name": "Python 3 (ipykernel)",
   "language": "python",
   "name": "python3"
  },
  "language_info": {
   "codemirror_mode": {
    "name": "ipython",
    "version": 3
   },
   "file_extension": ".py",
   "mimetype": "text/x-python",
   "name": "python",
   "nbconvert_exporter": "python",
   "pygments_lexer": "ipython3",
   "version": "3.12.6"
  }
 },
 "nbformat": 4,
 "nbformat_minor": 4
}
