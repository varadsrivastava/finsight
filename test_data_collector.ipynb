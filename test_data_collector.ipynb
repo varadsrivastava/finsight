{
 "cells": [
  {
   "cell_type": "markdown",
   "metadata": {
    "vscode": {
     "languageId": "plaintext"
    }
   },
   "source": [
    "# FinSight Data Collector Testing Notebook\n",
    "\n",
    "This notebook tests all components of the enhanced data collector including:\n",
    "- Basic stock data collection\n",
    "- HuggingFace sentiment analysis\n",
    "- Actual SEC filing downloads\n",
    "- Earnings call data collection\n",
    "- Competitor SEC filings analysis\n",
    "\n",
    "The system works with defaults. For enhanced features, optionally set API keys as environment variables or in a .env file.\n"
   ]
  },
  {
   "cell_type": "code",
   "execution_count": 1,
   "metadata": {},
   "outputs": [
    {
     "name": "stdout",
     "output_type": "stream",
     "text": [
      "✅ Imports successful\n"
     ]
    }
   ],
   "source": [
    "import sys\n",
    "import os\n",
    "import json\n",
    "import pandas as pd\n",
    "from datetime import datetime\n",
    "import warnings\n",
    "warnings.filterwarnings('ignore')\n",
    "\n",
    "# Add the project root to Python path\n",
    "sys.path.append('.')\n",
    "\n",
    "# Import our enhanced data collector\n",
    "from agents.data_collector import DataCollectorTools, DataRequest\n",
    "from config.config import FinSightConfig\n",
    "from shared_memory.memory_manager import SharedMemoryManager\n",
    "\n",
    "print(\"✅ Imports successful\")\n"
   ]
  },
  {
   "cell_type": "markdown",
   "metadata": {},
   "source": [
    "## 1. Initialize Data Collector Tools\n"
   ]
  },
  {
   "cell_type": "code",
   "execution_count": 2,
   "metadata": {},
   "outputs": [
    {
     "name": "stdout",
     "output_type": "stream",
     "text": [
      "📁 Charts output path: ./outputs/charts\n",
      "🔑 Finnhub API key configured: Yes\n",
      "🏢 Edgar user agent: FinSight user@finsight.ai\n"
     ]
    },
    {
     "name": "stderr",
     "output_type": "stream",
     "text": [
      "Device set to use cpu\n"
     ]
    },
    {
     "name": "stdout",
     "output_type": "stream",
     "text": [
      "\n",
      "Data Collector Tools initialized\n",
      "Sentiment model loaded: Yes\n"
     ]
    }
   ],
   "source": [
    "# Initialize configuration\n",
    "config = FinSightConfig()\n",
    "print(f\"📁 Charts output path: {config.charts_output_path}\")\n",
    "print(f\"🔑 Finnhub API key configured: {'Yes' if config.finnhub_api_key else 'No'}\")\n",
    "print(f\"🏢 Edgar user agent: {config.edgar_company_name} {config.edgar_email}\")\n",
    "\n",
    "# Initialize data collector tools\n",
    "tools = DataCollectorTools(config)\n",
    "print(\"\\nData Collector Tools initialized\")\n",
    "print(f\"Sentiment model loaded: {'Yes' if tools.sentiment_model else 'No (using fallback)'}\")\n"
   ]
  },
  {
   "cell_type": "markdown",
   "metadata": {},
   "source": [
    "## 2. Test Basic Stock Data Collection\n"
   ]
  },
  {
   "cell_type": "code",
   "execution_count": 4,
   "metadata": {},
   "outputs": [
    {
     "name": "stdout",
     "output_type": "stream",
     "text": [
      "📈 Testing stock data collection for AAPL...\n",
      "\n",
      "✅ Stock data collected successfully!\n",
      "📊 Current Price: $195.64\n",
      "📊 Market Cap: 2,922,039,738,368\n",
      "📊 P/E Ratio: 30.43\n",
      "📊 52-Week High: $260.10\n",
      "📊 52-Week Low: $169.21\n",
      "📊 Beta: 1.21\n",
      "📊 Historical data points: 501\n"
     ]
    }
   ],
   "source": [
    "# Test stock data collection\n",
    "symbol = \"AAPL\"  # You can change this to any stock symbol\n",
    "\n",
    "print(f\"📈 Testing stock data collection for {symbol}...\")\n",
    "stock_result = tools.get_stock_data(symbol)\n",
    "\n",
    "if stock_result[\"success\"]:\n",
    "    data = stock_result[\"data\"]\n",
    "    print(f\"\\n✅ Stock data collected successfully!\")\n",
    "    print(f\"📊 Current Price: ${data['current_price']:.2f}\")\n",
    "    print(f\"📊 Market Cap: {data['market_cap']:,}\" if data['market_cap'] else \"📊 Market Cap: N/A\")\n",
    "    print(f\"📊 P/E Ratio: {data['pe_ratio']:.2f}\" if data['pe_ratio'] else \"📊 P/E Ratio: N/A\")\n",
    "    print(f\"📊 52-Week High: ${data['52_week_high']:.2f}\")\n",
    "    print(f\"📊 52-Week Low: ${data['52_week_low']:.2f}\")\n",
    "    print(f\"📊 Beta: {data['beta']:.2f}\" if data['beta'] else \"📊 Beta: N/A\")\n",
    "    print(f\"📊 Historical data points: {len(data['historical_data']['dates'])}\")\n",
    "else:\n",
    "    print(f\"❌ Error: {stock_result['error']}\")\n"
   ]
  },
  {
   "cell_type": "markdown",
   "metadata": {},
   "source": [
    "## 3. Test Financial Statements Collection\n"
   ]
  },
  {
   "cell_type": "code",
   "execution_count": 5,
   "metadata": {},
   "outputs": [
    {
     "name": "stdout",
     "output_type": "stream",
     "text": [
      "💰 Testing financial statements collection for AAPL...\n",
      "\n",
      "✅ Financial statements collected successfully!\n",
      "\n",
      "📊 Key Financial Metrics:\n",
      "   • Revenue Growth: 0.051\n",
      "   • Profit Margin: 0.24301\n",
      "   • Operating Margin: 0.31028998\n",
      "   • Return on Equity: 1.38015\n",
      "   • Current Ratio: 0.821\n",
      "   • Debt to Equity: 146.994\n",
      "\n",
      "📄 Financial Statements Available:\n",
      "   • Income Statement periods: 5\n",
      "   • Balance Sheet periods: 5\n",
      "   • Cash Flow periods: 5\n"
     ]
    }
   ],
   "source": [
    "print(f\"💰 Testing financial statements collection for {symbol}...\")\n",
    "financials_result = tools.get_company_financials(symbol)\n",
    "\n",
    "if financials_result[\"success\"]:\n",
    "    data = financials_result[\"data\"]\n",
    "    print(f\"\\n✅ Financial statements collected successfully!\")\n",
    "    \n",
    "    # Show key metrics\n",
    "    metrics = data['key_metrics']\n",
    "    print(f\"\\n📊 Key Financial Metrics:\")\n",
    "    print(f\"   • Revenue Growth: {metrics.get('revenue_growth', 'N/A')}\")\n",
    "    print(f\"   • Profit Margin: {metrics.get('profit_margin', 'N/A')}\")\n",
    "    print(f\"   • Operating Margin: {metrics.get('operating_margin', 'N/A')}\")\n",
    "    print(f\"   • Return on Equity: {metrics.get('return_on_equity', 'N/A')}\")\n",
    "    print(f\"   • Current Ratio: {metrics.get('current_ratio', 'N/A')}\")\n",
    "    print(f\"   • Debt to Equity: {metrics.get('debt_to_equity', 'N/A')}\")\n",
    "    \n",
    "    # Show available statement periods\n",
    "    print(f\"\\n📄 Financial Statements Available:\")\n",
    "    print(f\"   • Income Statement periods: {len(data['income_statement'])}\")\n",
    "    print(f\"   • Balance Sheet periods: {len(data['balance_sheet'])}\")\n",
    "    print(f\"   • Cash Flow periods: {len(data['cash_flow'])}\")\n",
    "else:\n",
    "    print(f\"❌ Error: {financials_result['error']}\")\n"
   ]
  },
  {
   "cell_type": "markdown",
   "metadata": {},
   "source": [
    "## 4. Test Enhanced News Collection with HuggingFace Sentiment Analysis\n"
   ]
  },
  {
   "cell_type": "code",
   "execution_count": 6,
   "metadata": {},
   "outputs": [
    {
     "name": "stdout",
     "output_type": "stream",
     "text": [
      "📰 Testing news collection with sentiment analysis for AAPL...\n",
      "\n",
      "✅ News collection successful!\n",
      "📰 Found 20 articles from the last 7 days\n",
      "\n",
      "📊 Sentiment Analysis Results:\n",
      "\n",
      "📄 Article 1:\n",
      "   📰 Headline: Streaming Finally Outpaces Traditional TV. The Leading Platform Might Surprise You....\n",
      "   🎯 Sentiment: NEUTRAL (score: 0.508)\n",
      "   🤖 Model used: huggingface\n",
      "   🔗 Source: Yahoo\n",
      "\n",
      "📄 Article 2:\n",
      "   📰 Headline: BABA Down 8% in a Month: Will Partnership With Apple Aid Recovery?...\n",
      "   🎯 Sentiment: NEGATIVE (score: 0.971)\n",
      "   🤖 Model used: huggingface\n",
      "   🔗 Source: Yahoo\n",
      "\n",
      "📄 Article 3:\n",
      "   📰 Headline: Apple supplier Jabil plans $500M venture to build AI data centers...\n",
      "   🎯 Sentiment: NEUTRAL (score: 0.709)\n",
      "   🤖 Model used: huggingface\n",
      "   🔗 Source: Yahoo\n",
      "\n",
      "📄 Article 4:\n",
      "   📰 Headline: Motley Fool Analysts Check In on Chime Financial, RH, Adobe, and More...\n",
      "   🎯 Sentiment: NEUTRAL (score: 0.937)\n",
      "   🤖 Model used: huggingface\n",
      "   🔗 Source: Yahoo\n",
      "\n",
      "📄 Article 5:\n",
      "   📰 Headline: Trump says he'll extend TikTok sale deadline for third time...\n",
      "   🎯 Sentiment: NEUTRAL (score: 0.838)\n",
      "   🤖 Model used: huggingface\n",
      "   🔗 Source: Yahoo\n",
      "\n",
      "📈 Overall Sentiment Distribution:\n",
      "   • Positive: 0 articles (0.0%)\n",
      "   • Negative: 1 articles (5.0%)\n",
      "   • Neutral: 4 articles (20.0%)\n"
     ]
    }
   ],
   "source": [
    "print(f\"📰 Testing news collection with sentiment analysis for {symbol}...\")\n",
    "news_result = tools.get_company_news(symbol, days_back=7)\n",
    "\n",
    "if news_result[\"success\"]:\n",
    "    data = news_result[\"data\"]\n",
    "    articles = data['articles']\n",
    "    print(f\"\\n✅ News collection successful!\")\n",
    "    print(f\"📰 Found {len(articles)} articles from the last 7 days\")\n",
    "    \n",
    "    if articles:\n",
    "        print(f\"\\n📊 Sentiment Analysis Results:\")\n",
    "        sentiment_counts = {'positive': 0, 'negative': 0, 'neutral': 0}\n",
    "        \n",
    "        for i, article in enumerate(articles[:5]):\n",
    "            sentiment = article['sentiment']\n",
    "            sentiment_counts[sentiment] += 1\n",
    "            score = article['sentiment_score']\n",
    "            model = article['sentiment_model']\n",
    "            \n",
    "            print(f\"\\n📄 Article {i+1}:\")\n",
    "            print(f\"   📰 Headline: {article['headline'][:100]}...\")\n",
    "            print(f\"   🎯 Sentiment: {sentiment.upper()} (score: {score:.3f})\")\n",
    "            print(f\"   🤖 Model used: {model}\")\n",
    "            print(f\"   🔗 Source: {article['source']}\")\n",
    "        \n",
    "        print(f\"\\n📈 Overall Sentiment Distribution:\")\n",
    "        total = len(articles)\n",
    "        for sentiment, count in sentiment_counts.items():\n",
    "            percentage = (count / total) * 100\n",
    "            print(f\"   • {sentiment.capitalize()}: {count} articles ({percentage:.1f}%)\")\n",
    "    else:\n",
    "        print(\"📰 No recent articles found\")\n",
    "else:\n",
    "    print(f\"❌ Error: {news_result['error']}\")\n"
   ]
  },
  {
   "cell_type": "markdown",
   "metadata": {},
   "source": [
    "## 5. Test SEC Filings Download (Actual Files)\n"
   ]
  },
  {
   "cell_type": "code",
   "execution_count": 5,
   "metadata": {},
   "outputs": [
    {
     "name": "stdout",
     "output_type": "stream",
     "text": [
      "📋 Testing SEC filings download for AAPL...\n",
      "⚠️  This may take a few minutes as we download actual SEC filings\n",
      "🔄 System will try SEC-API.IO first (for PDFs), then fallback to direct EDGAR download\n",
      "\n",
      "✅ SEC filings download successful!\n",
      "📁 Download path: outputs/sec_filings\\AAPL\n",
      "📋 Total filings downloaded: 0\n",
      "🔄 Download method: sec-api.io\n",
      "📊 SEC-API.IO calls made: 0\n",
      "♻️  Files reused: 0\n"
     ]
    }
   ],
   "source": [
    "symbol = \"AAPL\"  # You can change this to any stock symbol\n",
    "\n",
    "print(f\"📋 Testing SEC filings download for {symbol}...\")\n",
    "print(\"⚠️  This may take a few minutes as we download actual SEC filings\")\n",
    "print(\"🔄 System will try SEC-API.IO first (for PDFs), then fallback to direct EDGAR download\")\n",
    "\n",
    "sec_result = tools.get_sec_filings(symbol, filing_types=[\"10-K\", \"10-Q\"], max_filings=2)\n",
    "\n",
    "if sec_result[\"success\"]:\n",
    "    data = sec_result[\"data\"]\n",
    "    print(f\"\\n✅ SEC filings download successful!\")\n",
    "    print(f\"📁 Download path: {data['download_path']}\")\n",
    "    print(f\"📋 Total filings downloaded: {len(data['filings_downloaded'])}\")\n",
    "    print(f\"🔄 Download method: {data.get('source', 'Unknown')}\")\n",
    "    \n",
    "    # Show API usage statistics if available\n",
    "    if 'api_calls_made' in data:\n",
    "        print(f\"📊 SEC-API.IO calls made: {data['api_calls_made']}\")\n",
    "        print(f\"♻️  Files reused: {data['files_reused']}\")\n",
    "    \n",
    "    # Show filing summaries\n",
    "    if data['filing_summaries']:\n",
    "        print(f\"\\n📄 Filing Details:\")\n",
    "        for i, filing in enumerate(data['filing_summaries']):\n",
    "            if 'error' not in filing:\n",
    "                print(f\"\\n📋 Filing {i+1}:\")\n",
    "                print(f\"   📝 Type: {filing['filing_type']}\")\n",
    "                print(f\"   📅 Date: {filing.get('date', 'Unknown')}\")\n",
    "                print(f\"   📄 File: {filing.get('file_path', 'N/A')}\")\n",
    "                print(f\"   🔄 Method: {filing.get('download_method', 'Unknown')}\")\n",
    "                \n",
    "                # Show accession number if available\n",
    "                if 'accession_number' in filing:\n",
    "                    print(f\"   🆔 Accession: {filing['accession_number']}\")\n",
    "                \n",
    "                # Show text preview for non-PDF files\n",
    "                text_summary = filing.get('text_summary', '')\n",
    "                if text_summary:\n",
    "                    print(f\"   📝 Preview: {text_summary[:200]}...\")\n",
    "            else:\n",
    "                print(f\"\\n❌ {filing['filing_type']}: {filing['error']}\")\n",
    "    \n",
    "    # Show actual downloaded files structure\n",
    "    if data['filings_downloaded']:\n",
    "        print(f\"\\n📁 Downloaded File Structure:\")\n",
    "        for filing in data['filings_downloaded'][:2]:\n",
    "            print(f\"   📋 {filing['filing_type']} - {filing.get('filing_date', 'Unknown date')}\")\n",
    "            \n",
    "            # Handle both PDF and HTML/TXT files\n",
    "            file_path = filing.get('filing_path') or filing.get('file_path')\n",
    "            if file_path:\n",
    "                print(f\"       📄 File path: {file_path}\")\n",
    "                \n",
    "                # Check if file actually exists and show details\n",
    "                if os.path.exists(file_path):\n",
    "                    file_size = os.path.getsize(file_path)\n",
    "                    file_ext = os.path.splitext(file_path)[1].lower()\n",
    "                    \n",
    "                    if file_ext == '.pdf':\n",
    "                        print(f\"       ✅ PDF file exists ({file_size:,} bytes) - Ready for multimodal analysis\")\n",
    "                    else:\n",
    "                        print(f\"       ✅ File exists ({file_size:,} bytes)\")\n",
    "                        print(f\"       📊 Financial tables: {len(filing.get('tables_found', []))}\") \n",
    "                        print(f\"       📝 Text length: {len(filing.get('text_summary', ''))} characters\")\n",
    "                else:\n",
    "                    print(f\"       ❌ File not found\")\n",
    "            else:\n",
    "                print(f\"       ❌ No file path available\")\n",
    "                \n",
    "            # Show download method\n",
    "            method = filing.get('download_method', 'Unknown')\n",
    "            if method == 'sec-api.io':\n",
    "                print(f\"       🚀 Downloaded as optimized PDF via SEC-API.IO\")\n",
    "            elif method == 'reused_existing':\n",
    "                print(f\"       ♻️  Reused existing file (saved API call)\")\n",
    "            elif method == 'edgar_direct':\n",
    "                print(f\"       📋 Downloaded via direct EDGAR access\")\n",
    "else:\n",
    "    print(f\"❌ Error: {sec_result['error']}\")\n",
    "    print(\"💡 Tip: If SEC-API.IO failed, check if SEC_API_KEY is set in your .env file\")"
   ]
  },
  {
   "cell_type": "markdown",
   "metadata": {},
   "source": [
    "## 6. Test Earnings Call Data Collection\n"
   ]
  },
  {
   "cell_type": "code",
   "execution_count": 6,
   "metadata": {},
   "outputs": [
    {
     "name": "stdout",
     "output_type": "stream",
     "text": [
      "💼 Testing earnings call data collection for AAPL...\n"
     ]
    },
    {
     "name": "stderr",
     "output_type": "stream",
     "text": [
      "Could not get earnings surprises: 'Client' object has no attribute 'earnings_surprise'\n"
     ]
    },
    {
     "name": "stdout",
     "output_type": "stream",
     "text": [
      "\n",
      "✅ Earnings data collection successful!\n",
      "📅 Upcoming earnings events: 1\n",
      "   📅 2025-07-30: Earnings call\n",
      "\n",
      "📊 Historical earnings surprises: 0\n",
      "\n",
      "📞 Earnings calls found: 0\n"
     ]
    },
    {
     "name": "stderr",
     "output_type": "stream",
     "text": [
      "F:\\WORK\\PROJECTS\\finsight\\.venv\\Lib\\site-packages\\yfinance\\scrapers\\fundamentals.py:36: DeprecationWarning: 'Ticker.earnings' is deprecated as not available via API. Look for \"Net Income\" in Ticker.income_stmt.\n",
      "  warnings.warn(\"'Ticker.earnings' is deprecated as not available via API. Look for \\\"Net Income\\\" in Ticker.income_stmt.\", DeprecationWarning)\n"
     ]
    }
   ],
   "source": [
    "print(f\"💼 Testing earnings call data collection for {symbol}...\")\n",
    "earnings_result = tools.get_earnings_call_data(symbol, quarters=4)\n",
    "\n",
    "if earnings_result[\"success\"]:\n",
    "    data = earnings_result[\"data\"]\n",
    "    print(f\"\\n✅ Earnings data collection successful!\")\n",
    "    \n",
    "    # Earnings calendar\n",
    "    calendar = data['earnings_calendar']\n",
    "    print(f\"📅 Upcoming earnings events: {len(calendar)}\")\n",
    "    if calendar:\n",
    "        for event in calendar[:3]:\n",
    "            print(f\"   📅 {event.get('date', 'Unknown')}: {event.get('description', 'Earnings call')}\")\n",
    "    \n",
    "    # Earnings surprises\n",
    "    surprises = data['earnings_surprises']\n",
    "    print(f\"\\n📊 Historical earnings surprises: {len(surprises) if surprises else 0}\")\n",
    "    if surprises and len(surprises) > 0:\n",
    "        for surprise in surprises[:3]:\n",
    "            print(f\"   📊 {surprise.get('period', 'Unknown')}: Actual {surprise.get('actual', 'N/A')} vs Estimate {surprise.get('estimate', 'N/A')}\")\n",
    "    \n",
    "    # Earnings calls\n",
    "    calls = data['earnings_calls']\n",
    "    print(f\"\\n📞 Earnings calls found: {len(calls)}\")\n",
    "    if calls:\n",
    "        for i, call in enumerate(calls[:3]):\n",
    "            print(f\"\\n📞 Call {i+1}:\")\n",
    "            print(f\"   📅 Date: {call.get('date', 'Unknown')}\")\n",
    "            print(f\"   📊 Quarter: {call.get('quarter', 'Unknown')} {call.get('year', '')}\")\n",
    "            print(f\"   💰 Revenue: ${call.get('revenue', 'N/A')}\")\n",
    "            print(f\"   💰 Earnings: ${call.get('earnings', 'N/A')}\")\n",
    "            print(f\"   📝 Source: {call.get('source', 'Unknown')}\")\n",
    "            \n",
    "            # Show transcript info if available\n",
    "            transcript = call.get('transcript', '')\n",
    "            if transcript and len(transcript) > 50:\n",
    "                print(f\"   📝 Transcript: {transcript[:100]}...\")\n",
    "            else:\n",
    "                print(f\"   📝 Transcript: {transcript or 'Not available'}\")\n",
    "else:\n",
    "    print(f\"❌ Error: {earnings_result['error']}\")\n"
   ]
  },
  {
   "cell_type": "code",
   "execution_count": null,
   "metadata": {},
   "outputs": [],
   "source": [
    "## 7. Test Competitor SEC Filings Analysis\n"
   ]
  },
  {
   "cell_type": "code",
   "execution_count": null,
   "metadata": {},
   "outputs": [],
   "source": [
    "print(f\"🏢 Testing competitor SEC filings analysis for {symbol}...\")\n",
    "print(\"⚠️  This may take several minutes as we download competitor filings\")\n",
    "\n",
    "competitor_result = tools.get_competitor_sec_filings(symbol, filing_types=[\"10-K\"], max_filings=1)\n",
    "\n",
    "if competitor_result[\"success\"]:\n",
    "    data = competitor_result[\"data\"]\n",
    "    print(f\"\\n✅ Competitor analysis successful!\")\n",
    "    print(f\"🏢 Primary symbol: {data['primary_symbol']}\")\n",
    "    print(f\"🏢 Competitors analyzed: {', '.join(data['competitors_analyzed'])}\")\n",
    "    \n",
    "    # Show competitor filing results\n",
    "    competitor_filings = data['competitor_filings']\n",
    "    print(f\"\\n📋 Competitor Filing Results:\")\n",
    "    \n",
    "    for competitor, filing_data in competitor_filings.items():\n",
    "        print(f\"\\n🏢 {competitor}:\")\n",
    "        if 'error' in filing_data:\n",
    "            print(f\"   ❌ Error: {filing_data['error']}\")\n",
    "        else:\n",
    "            filings_downloaded = filing_data.get('filings_downloaded', [])\n",
    "            print(f\"   📋 Filings downloaded: {len(filings_downloaded)}\")\n",
    "            \n",
    "            if filings_downloaded:\n",
    "                for filing in filings_downloaded[:1]:\n",
    "                    print(f\"   📄 {filing['filing_type']} - {filing.get('filing_date', 'Unknown')}\")\n",
    "                    print(f\"       📊 Tables found: {len(filing.get('tables_found', []))}\")\n",
    "                    print(f\"       📝 Text preview: {filing.get('text_summary', '')[:100]}...\")\n",
    "else:\n",
    "    print(f\"❌ Error: {competitor_result['error']}\")\n"
   ]
  },
  {
   "cell_type": "code",
   "execution_count": null,
   "metadata": {},
   "outputs": [],
   "source": [
    "## 8. Test Sentiment Analysis Independently\n"
   ]
  },
  {
   "cell_type": "code",
   "execution_count": null,
   "metadata": {},
   "outputs": [],
   "source": [
    "print(\"🤖 Testing sentiment analysis with sample texts...\")\n",
    "\n",
    "# Test cases with different sentiments\n",
    "test_texts = [\n",
    "    \"Apple reports record quarterly revenue, beating analyst expectations by 15%\",\n",
    "    \"Company faces significant challenges due to supply chain disruptions and declining margins\",\n",
    "    \"Stock price remains stable with mixed analyst recommendations\",\n",
    "    \"Strong growth in cloud services division drives revenue increase and profitability\",\n",
    "    \"Regulatory concerns and market volatility create uncertainty for investors\"\n",
    "]\n",
    "\n",
    "print(f\"\\n🧪 Testing {len(test_texts)} sample texts:\")\n",
    "\n",
    "for i, text in enumerate(test_texts, 1):\n",
    "    sentiment_result = tools._analyze_sentiment(text)\n",
    "    \n",
    "    print(f\"\\n📝 Test {i}:\")\n",
    "    print(f\"   Text: {text}\")\n",
    "    print(f\"   🎯 Sentiment: {sentiment_result['label'].upper()}\")\n",
    "    print(f\"   📊 Score: {sentiment_result['score']:.3f}\")\n",
    "    print(f\"   🔍 Confidence: {sentiment_result['confidence']:.3f}\")\n",
    "    print(f\"   🤖 Model: {sentiment_result['model']}\")\n",
    "\n",
    "print(f\"\\n✅ Sentiment analysis testing complete!\")\n"
   ]
  },
  {
   "cell_type": "code",
   "execution_count": null,
   "metadata": {},
   "outputs": [],
   "source": [
    "## 9. Test ESG and Market Trends Data\n"
   ]
  },
  {
   "cell_type": "code",
   "execution_count": null,
   "metadata": {},
   "outputs": [],
   "source": [
    "# Test ESG data collection\n",
    "print(f\"🌱 Testing ESG data collection for {symbol}...\")\n",
    "esg_result = tools.get_esg_data(symbol)\n",
    "\n",
    "if esg_result[\"success\"]:\n",
    "    data = esg_result[\"data\"]\n",
    "    print(f\"\\n✅ ESG data collection successful!\")\n",
    "    print(f\"🌱 Employee count: {data.get('employee_count', 'N/A'):,}\" if data.get('employee_count') else \"🌱 Employee count: N/A\")\n",
    "    print(f\"🌱 Sustainability score: {data.get('sustainability_score', 'N/A')}\")\n",
    "    print(f\"🌱 ESG risk rating: {data.get('esg_risk_rating', 'N/A')}\")\n",
    "    print(f\"ℹ️  Note: {esg_result.get('note', '')}\")\n",
    "else:\n",
    "    print(f\"❌ ESG Error: {esg_result['error']}\")\n",
    "\n",
    "# Test market trends collection\n",
    "print(f\"\\n📈 Testing market trends collection for {symbol}...\")\n",
    "trends_result = tools.get_market_trends(symbol)\n",
    "\n",
    "if trends_result[\"success\"]:\n",
    "    data = trends_result[\"data\"]\n",
    "    print(f\"\\n✅ Market trends collection successful!\")\n",
    "    \n",
    "    # Show market indicators\n",
    "    indicators = data.get('market_indicators', {})\n",
    "    print(f\"📊 Market Indicators:\")\n",
    "    print(f\"   📊 Short Ratio: {indicators.get('short_ratio', 'N/A')}\")\n",
    "    print(f\"   📊 Shares Outstanding: {indicators.get('shares_outstanding', 'N/A'):,}\" if indicators.get('shares_outstanding') else \"   📊 Shares Outstanding: N/A\")\n",
    "    print(f\"   📊 Institutional Ownership: {indicators.get('institutional_ownership_pct', 'N/A')}\")\n",
    "    print(f\"   📊 Insider Ownership: {indicators.get('insider_ownership_pct', 'N/A')}\")\n",
    "    \n",
    "    # Show analyst recommendations if available\n",
    "    recommendations = data.get('analyst_recommendations', {}).get('recent_recommendations', [])\n",
    "    if recommendations:\n",
    "        print(f\"\\n👥 Recent Analyst Recommendations: {len(recommendations)}\")\n",
    "        for rec in recommendations[:3]:\n",
    "            date = rec.get('Date', 'Unknown')\n",
    "            firm = rec.get('Firm', 'Unknown')\n",
    "            rating = rec.get('To Grade', 'Unknown')\n",
    "            print(f\"   👥 {date}: {firm} - {rating}\")\n",
    "else:\n",
    "    print(f\"❌ Trends Error: {trends_result['error']}\")\n"
   ]
  },
  {
   "cell_type": "code",
   "execution_count": null,
   "metadata": {},
   "outputs": [],
   "source": [
    "## 10. Summary and Data Structure Overview\n"
   ]
  },
  {
   "cell_type": "code",
   "execution_count": null,
   "metadata": {},
   "outputs": [],
   "source": [
    "print(\"📋 ENHANCED DATA COLLECTOR TESTING SUMMARY\")\n",
    "print(\"=\" * 50)\n",
    "\n",
    "# Test all components one more time and show structure\n",
    "test_symbol = \"AAPL\"\n",
    "print(f\"🔍 Testing all components for {test_symbol}:\")\n",
    "\n",
    "components = [\n",
    "    (\"Stock Data\", lambda: tools.get_stock_data(test_symbol)),\n",
    "    (\"Financial Statements\", lambda: tools.get_company_financials(test_symbol)),\n",
    "    (\"News with Sentiment\", lambda: tools.get_company_news(test_symbol, 3)),\n",
    "    (\"ESG Data\", lambda: tools.get_esg_data(test_symbol)),\n",
    "    (\"Market Trends\", lambda: tools.get_market_trends(test_symbol))\n",
    "]\n",
    "\n",
    "results_summary = {}\n",
    "\n",
    "for component_name, test_func in components:\n",
    "    try:\n",
    "        result = test_func()\n",
    "        status = \"✅ Success\" if result.get(\"success\") else \"❌ Failed\"\n",
    "        results_summary[component_name] = status\n",
    "        print(f\"   {status}: {component_name}\")\n",
    "    except Exception as e:\n",
    "        results_summary[component_name] = f\"❌ Error: {str(e)[:50]}...\"\n",
    "        print(f\"   ❌ Error: {component_name} - {str(e)[:50]}...\")\n",
    "\n",
    "print(f\"\\n📊 COMPONENT STATUS SUMMARY:\")\n",
    "for component, status in results_summary.items():\n",
    "    print(f\"   {component}: {status}\")\n",
    "\n",
    "print(f\"\\n🎯 KEY ENHANCEMENTS IMPLEMENTED:\")\n",
    "print(f\"   🤖 HuggingFace FinBERT sentiment analysis\")\n",
    "print(f\"   📋 Actual SEC filing downloads and parsing\")\n",
    "print(f\"   💼 Earnings call data collection\")\n",
    "print(f\"   🏢 Competitor SEC filings analysis\")\n",
    "print(f\"   📊 Enhanced data structures for multimodal analysis\")\n",
    "\n",
    "print(f\"\\n📁 File Storage Locations:\")\n",
    "print(f\"   📋 SEC Filings: {config.charts_output_path}/sec_filings/\")\n",
    "print(f\"   📊 Charts: {config.charts_output_path}/\")\n",
    "print(f\"   💾 Vector DB: {config.vector_db_path}\")\n",
    "print(f\"   🗄️  Shared Memory: {config.shared_memory_path}\")\n",
    "\n",
    "print(f\"\\n✅ TESTING COMPLETE!\")\n",
    "print(f\"📝 All components of the enhanced data collector have been tested.\")\n",
    "print(f\"🚀 The system is ready for comprehensive financial research!\")\n"
   ]
  },
  {
   "cell_type": "code",
   "execution_count": null,
   "metadata": {},
   "outputs": [],
   "source": []
  },
  {
   "cell_type": "code",
   "execution_count": null,
   "metadata": {},
   "outputs": [],
   "source": []
  }
 ],
 "metadata": {
  "kernelspec": {
   "display_name": "Python 3 (ipykernel)",
   "language": "python",
   "name": "python3"
  },
  "language_info": {
   "codemirror_mode": {
    "name": "ipython",
    "version": 3
   },
   "file_extension": ".py",
   "mimetype": "text/x-python",
   "name": "python",
   "nbconvert_exporter": "python",
   "pygments_lexer": "ipython3",
   "version": "3.12.6"
  }
 },
 "nbformat": 4,
 "nbformat_minor": 4
}
